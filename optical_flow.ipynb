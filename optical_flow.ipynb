{
 "cells": [
  {
   "cell_type": "markdown",
   "metadata": {},
   "source": [
    "# Optical Flow\n",
    "    1. Optical flow is the pattern of apparent motion of image objects between two consecutive          frames caused by the movement of object or camera\n",
    "    2. It often serves as a good approximation of the true physical motion projected onto the          image plane\n",
    "    3. Optical flow provides a concise description of both the regions of the image undergoing          motion and the velocity of motion.\n",
    "    \n",
    "    \n",
    "  Refer table 19.1  Comparision over motion changes detection tools\n",
    "    \n",
    "  Refrence 1. Advances in Video-Based Human Activity Analysis: Challenges and Approaches                       Pavan Turaga Rama Chellappa Ashok Veera raghavan\n",
    "\n",
    "\n",
    "NOTE: It is probably a good idea to restart the kernel if you ever run these cells, as the tracking algo can sometimes get caught in a loop with your camera.\n"
   ]
  },
  {
   "cell_type": "code",
   "execution_count": 5,
   "metadata": {},
   "outputs": [],
   "source": [
    "import numpy as np\n",
    "import cv2\n",
    "import matplotlib.pyplot as plt\n",
    "%matplotlib inline"
   ]
  },
  {
   "cell_type": "code",
   "execution_count": 6,
   "metadata": {},
   "outputs": [],
   "source": [
    "corner_track_params = dict(maxCorners = 10,\n",
    "                       qualityLevel = 0.3,\n",
    "                       minDistance = 7,\n",
    "                       blockSize = 7 )"
   ]
  },
  {
   "cell_type": "markdown",
   "metadata": {},
   "source": [
    "### have Look at optical pyramid for image processing \n",
    "\n",
    "   image resolution is imortant as shown in image pyramid in Optical flow \n",
    "Refer : https://en.wikipedia.org/wiki/Pyramid_(image_processing)#/media/File:Image_pyramid.svg"
   ]
  },
  {
   "cell_type": "code",
   "execution_count": 7,
   "metadata": {},
   "outputs": [],
   "source": [
    "# prameters for lukas kanade otical flow prameters\n",
    "\n",
    "lukas_kanade_prams = dict(winSize=(200,200),maxLevel=2,criteria = (cv2.TERM_CRITERIA_EPS | cv2.TERM_CRITERIA_COUNT,10,0.03))"
   ]
  },
  {
   "cell_type": "code",
   "execution_count": 8,
   "metadata": {},
   "outputs": [],
   "source": [
    "# Read video data\n",
    "capture_video = cv2.VideoCapture(0)\n",
    "ret, previous_frame = capture_video.read()\n",
    "\n",
    "# Read in gray scale\n",
    "previous_frame_gray = cv2.cvtColor(previous_frame,cv2.COLOR_BGR2GRAY)\n",
    "\n",
    "\n",
    "# set points to Track\n",
    "# Note ** = laws to pass dictionary of corner points \n",
    "prev_points = cv2.goodFeaturesToTrack(previous_frame_gray, mask = None, **corner_track_params)\n",
    "\n",
    "mask = np.zeros_like(previous_frame)\n",
    "\n",
    "\n",
    "while True:\n",
    "    \n",
    "    # read for  current frame\n",
    "    ret, current_frame = capture_video.read()\n",
    "    \n",
    "    # gray scale read for current frame\n",
    "    current_frame_gray = cv2.cvtColor(current_frame,cv2.COLOR_BGR2GRAY)\n",
    "    \n",
    "    # Now calculate optical flow on the gray scale\n",
    "    # get next point, status and error using pyramid lukas kanade using following function\n",
    "    \n",
    "    nextPts , status, err = cv2.calcOpticalFlowPyrLK(previous_frame_gray,current_frame_gray,prev_points,None,**lukas_kanade_prams)\n",
    "    \n",
    "    # lets return the status array \n",
    "    \n",
    "    next_new_pts = nextPts[status == 1]\n",
    "    prev_new_pts = prev_points[status == 1]\n",
    "    \n",
    "    for i, (new,prev) in enumerate(zip(next_new_pts,prev_new_pts)):\n",
    "        \n",
    "        # set x and y points to draw with np.ravel option\n",
    "        x_new,y_new = new.ravel()\n",
    "        x_prev,y_prev = prev.ravel()\n",
    "        \n",
    "        mask = cv2.line(mask,(x_new,y_new),(x_prev,y_prev),(0,255,0),3)\n",
    "        \n",
    "        frame = cv2.circle(current_frame,(x_new,y_new),8,(255,0,0),1)\n",
    "        \n",
    "        \n",
    "        \n",
    "    img = cv2.add(frame,mask)\n",
    "    cv2.imshow('Tracking',img)\n",
    "    \n",
    "    \n",
    "    k = cv2.waitKey(30) & 0xFF\n",
    "    if k == 27:\n",
    "        break\n",
    "        \n",
    "        \n",
    "# update previous frame for next iteration\n",
    "\n",
    "    previous_frame_gray = current_frame_gray.copy()\n",
    "    prev_points = next_new_pts.reshape(-1,1,2)\n",
    "    \n",
    "    \n",
    "    \n",
    "cv2.destroyAllWindows()\n",
    "capture_video.release()\n",
    "    "
   ]
  },
  {
   "cell_type": "code",
   "execution_count": null,
   "metadata": {},
   "outputs": [],
   "source": []
  }
 ],
 "metadata": {
  "kernelspec": {
   "display_name": "Python 3",
   "language": "python",
   "name": "python3"
  },
  "language_info": {
   "codemirror_mode": {
    "name": "ipython",
    "version": 3
   },
   "file_extension": ".py",
   "mimetype": "text/x-python",
   "name": "python",
   "nbconvert_exporter": "python",
   "pygments_lexer": "ipython3",
   "version": "3.6.6"
  }
 },
 "nbformat": 4,
 "nbformat_minor": 2
}
